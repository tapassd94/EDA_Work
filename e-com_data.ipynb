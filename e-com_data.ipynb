{
 "cells": [
  {
   "cell_type": "code",
   "execution_count": 1,
   "id": "beba9138",
   "metadata": {},
   "outputs": [],
   "source": [
    "import pandas as pd\n",
    "from datetime import date\n",
    "import seaborn as sns\n",
    "\n",
    "%matplotlib inline\n",
    "import matplotlib.pyplot as plt\n",
    "plt.rcParams['figure.figsize'] = [12, 8]"
   ]
  },
  {
   "cell_type": "code",
   "execution_count": 2,
   "id": "e99ad20a",
   "metadata": {},
   "outputs": [],
   "source": [
    "import warnings\n",
    "\n",
    "warnings.filterwarnings(\"ignore\")"
   ]
  },
  {
   "cell_type": "code",
   "execution_count": 3,
   "id": "e3f657a3",
   "metadata": {},
   "outputs": [
    {
     "data": {
      "text/html": [
       "<div>\n",
       "<style scoped>\n",
       "    .dataframe tbody tr th:only-of-type {\n",
       "        vertical-align: middle;\n",
       "    }\n",
       "\n",
       "    .dataframe tbody tr th {\n",
       "        vertical-align: top;\n",
       "    }\n",
       "\n",
       "    .dataframe thead th {\n",
       "        text-align: right;\n",
       "    }\n",
       "</style>\n",
       "<table border=\"1\" class=\"dataframe\">\n",
       "  <thead>\n",
       "    <tr style=\"text-align: right;\">\n",
       "      <th></th>\n",
       "      <th>Opp Start Date</th>\n",
       "      <th>OPP contract end date</th>\n",
       "      <th>Unique Account Field</th>\n",
       "      <th>MRR(expected)</th>\n",
       "    </tr>\n",
       "  </thead>\n",
       "  <tbody>\n",
       "    <tr>\n",
       "      <th>0</th>\n",
       "      <td>2013-01-02</td>\n",
       "      <td>2015-01-02</td>\n",
       "      <td>50e55915b8451900a3a1-c413-ecc5-de79-</td>\n",
       "      <td>195</td>\n",
       "    </tr>\n",
       "    <tr>\n",
       "      <th>1</th>\n",
       "      <td>2013-01-02</td>\n",
       "      <td>2014-01-02</td>\n",
       "      <td>4ee75fa519523e447d14-7352-35f4-5dc8-</td>\n",
       "      <td>50</td>\n",
       "    </tr>\n",
       "    <tr>\n",
       "      <th>2</th>\n",
       "      <td>2013-01-02</td>\n",
       "      <td>2014-01-02</td>\n",
       "      <td>4edc9de724bd48ed5f9e-d0a5-2571-c0b8-</td>\n",
       "      <td>139</td>\n",
       "    </tr>\n",
       "    <tr>\n",
       "      <th>3</th>\n",
       "      <td>2013-01-02</td>\n",
       "      <td>2014-01-02</td>\n",
       "      <td>49ec8bd5f38b60ed061d-799a-0698-9510-</td>\n",
       "      <td>105</td>\n",
       "    </tr>\n",
       "    <tr>\n",
       "      <th>4</th>\n",
       "      <td>2013-01-02</td>\n",
       "      <td>2014-01-02</td>\n",
       "      <td>4f04839fbb6e7242a8ac-5757-401f-0947-</td>\n",
       "      <td>130</td>\n",
       "    </tr>\n",
       "  </tbody>\n",
       "</table>\n",
       "</div>"
      ],
      "text/plain": [
       "  Opp Start Date OPP contract end date                  Unique Account Field  \\\n",
       "0     2013-01-02            2015-01-02  50e55915b8451900a3a1-c413-ecc5-de79-   \n",
       "1     2013-01-02            2014-01-02  4ee75fa519523e447d14-7352-35f4-5dc8-   \n",
       "2     2013-01-02            2014-01-02  4edc9de724bd48ed5f9e-d0a5-2571-c0b8-   \n",
       "3     2013-01-02            2014-01-02  49ec8bd5f38b60ed061d-799a-0698-9510-   \n",
       "4     2013-01-02            2014-01-02  4f04839fbb6e7242a8ac-5757-401f-0947-   \n",
       "\n",
       "   MRR(expected)  \n",
       "0            195  \n",
       "1             50  \n",
       "2            139  \n",
       "3            105  \n",
       "4            130  "
      ]
     },
     "execution_count": 3,
     "metadata": {},
     "output_type": "execute_result"
    }
   ],
   "source": [
    "df = pd.read_excel(\"Analytical task.xlsx\", sheet_name='Analytical task')\n",
    "df.head()"
   ]
  },
  {
   "cell_type": "code",
   "execution_count": 4,
   "id": "03f14ac3",
   "metadata": {},
   "outputs": [
    {
     "name": "stdout",
     "output_type": "stream",
     "text": [
      "<class 'pandas.core.frame.DataFrame'>\n",
      "RangeIndex: 25129 entries, 0 to 25128\n",
      "Data columns (total 4 columns):\n",
      " #   Column                 Non-Null Count  Dtype         \n",
      "---  ------                 --------------  -----         \n",
      " 0   Opp Start Date         25129 non-null  datetime64[ns]\n",
      " 1   OPP contract end date  25129 non-null  datetime64[ns]\n",
      " 2   Unique Account Field   25129 non-null  object        \n",
      " 3   MRR(expected)          25129 non-null  int64         \n",
      "dtypes: datetime64[ns](2), int64(1), object(1)\n",
      "memory usage: 785.4+ KB\n"
     ]
    }
   ],
   "source": [
    "df.info()"
   ]
  },
  {
   "cell_type": "code",
   "execution_count": 5,
   "id": "e8d43b68",
   "metadata": {},
   "outputs": [
    {
     "data": {
      "text/plain": [
       "count    25129.00\n",
       "mean       124.69\n",
       "std         43.43\n",
       "min         50.00\n",
       "25%         87.00\n",
       "50%        124.00\n",
       "75%        162.00\n",
       "max        200.00\n",
       "Name: MRR(expected), dtype: float64"
      ]
     },
     "metadata": {},
     "output_type": "display_data"
    },
    {
     "data": {
      "text/plain": [
       "3133434"
      ]
     },
     "metadata": {},
     "output_type": "display_data"
    }
   ],
   "source": [
    "display(df['MRR(expected)'].describe().round(2))\n",
    "display(df['MRR(expected)'].sum())"
   ]
  },
  {
   "cell_type": "code",
   "execution_count": 6,
   "id": "0324076d",
   "metadata": {},
   "outputs": [
    {
     "data": {
      "text/plain": [
       "<AxesSubplot:ylabel='MRR(expected)'>"
      ]
     },
     "execution_count": 6,
     "metadata": {},
     "output_type": "execute_result"
    },
    {
     "data": {
      "image/png": "[encoded data removed]",
      "text/plain": [
       "<Figure size 864x576 with 1 Axes>"
      ]
     },
     "metadata": {
      "needs_background": "light"
     },
     "output_type": "display_data"
    }
   ],
   "source": [
    "sns.boxplot(y = 'MRR(expected)', data = df)"
   ]
  },
  {
   "cell_type": "code",
   "execution_count": 7,
   "id": "b6b1e574",
   "metadata": {},
   "outputs": [],
   "source": [
    "df['Opp Start Date'] = pd.to_datetime(df['Opp Start Date'], format='%d-%m-%y')\n",
    "df['OPP contract end date'] = pd.to_datetime(df['OPP contract end date'], format='%d-%m-%y')"
   ]
  },
  {
   "cell_type": "code",
   "execution_count": 8,
   "id": "8bdfe92f",
   "metadata": {},
   "outputs": [],
   "source": [
    "def mapper(month):\n",
    "    return month.strftime('%b-%y') \n",
    "\n",
    "df['Opp_Start_Date'] = df['Opp Start Date'].apply(mapper)\n",
    "df['OPP_contract_end_date'] = df['OPP contract end date'].apply(mapper)"
   ]
  },
  {
   "cell_type": "code",
   "execution_count": 9,
   "id": "9e9e79eb",
   "metadata": {},
   "outputs": [
    {
     "data": {
      "text/html": [
       "<div>\n",
       "<style scoped>\n",
       "    .dataframe tbody tr th:only-of-type {\n",
       "        vertical-align: middle;\n",
       "    }\n",
       "\n",
       "    .dataframe tbody tr th {\n",
       "        vertical-align: top;\n",
       "    }\n",
       "\n",
       "    .dataframe thead th {\n",
       "        text-align: right;\n",
       "    }\n",
       "</style>\n",
       "<table border=\"1\" class=\"dataframe\">\n",
       "  <thead>\n",
       "    <tr style=\"text-align: right;\">\n",
       "      <th></th>\n",
       "      <th>Opp Start Date</th>\n",
       "      <th>OPP contract end date</th>\n",
       "      <th>Unique Account Field</th>\n",
       "      <th>MRR(expected)</th>\n",
       "      <th>Opp_Start_Date</th>\n",
       "      <th>OPP_contract_end_date</th>\n",
       "    </tr>\n",
       "  </thead>\n",
       "  <tbody>\n",
       "    <tr>\n",
       "      <th>0</th>\n",
       "      <td>2013-01-02</td>\n",
       "      <td>2015-01-02</td>\n",
       "      <td>50e55915b8451900a3a1-c413-ecc5-de79-</td>\n",
       "      <td>195</td>\n",
       "      <td>Jan-13</td>\n",
       "      <td>Jan-15</td>\n",
       "    </tr>\n",
       "    <tr>\n",
       "      <th>1</th>\n",
       "      <td>2013-01-02</td>\n",
       "      <td>2014-01-02</td>\n",
       "      <td>4ee75fa519523e447d14-7352-35f4-5dc8-</td>\n",
       "      <td>50</td>\n",
       "      <td>Jan-13</td>\n",
       "      <td>Jan-14</td>\n",
       "    </tr>\n",
       "    <tr>\n",
       "      <th>2</th>\n",
       "      <td>2013-01-02</td>\n",
       "      <td>2014-01-02</td>\n",
       "      <td>4edc9de724bd48ed5f9e-d0a5-2571-c0b8-</td>\n",
       "      <td>139</td>\n",
       "      <td>Jan-13</td>\n",
       "      <td>Jan-14</td>\n",
       "    </tr>\n",
       "    <tr>\n",
       "      <th>3</th>\n",
       "      <td>2013-01-02</td>\n",
       "      <td>2014-01-02</td>\n",
       "      <td>49ec8bd5f38b60ed061d-799a-0698-9510-</td>\n",
       "      <td>105</td>\n",
       "      <td>Jan-13</td>\n",
       "      <td>Jan-14</td>\n",
       "    </tr>\n",
       "    <tr>\n",
       "      <th>4</th>\n",
       "      <td>2013-01-02</td>\n",
       "      <td>2014-01-02</td>\n",
       "      <td>4f04839fbb6e7242a8ac-5757-401f-0947-</td>\n",
       "      <td>130</td>\n",
       "      <td>Jan-13</td>\n",
       "      <td>Jan-14</td>\n",
       "    </tr>\n",
       "  </tbody>\n",
       "</table>\n",
       "</div>"
      ],
      "text/plain": [
       "  Opp Start Date OPP contract end date                  Unique Account Field  \\\n",
       "0     2013-01-02            2015-01-02  50e55915b8451900a3a1-c413-ecc5-de79-   \n",
       "1     2013-01-02            2014-01-02  4ee75fa519523e447d14-7352-35f4-5dc8-   \n",
       "2     2013-01-02            2014-01-02  4edc9de724bd48ed5f9e-d0a5-2571-c0b8-   \n",
       "3     2013-01-02            2014-01-02  49ec8bd5f38b60ed061d-799a-0698-9510-   \n",
       "4     2013-01-02            2014-01-02  4f04839fbb6e7242a8ac-5757-401f-0947-   \n",
       "\n",
       "   MRR(expected) Opp_Start_Date OPP_contract_end_date  \n",
       "0            195         Jan-13                Jan-15  \n",
       "1             50         Jan-13                Jan-14  \n",
       "2            139         Jan-13                Jan-14  \n",
       "3            105         Jan-13                Jan-14  \n",
       "4            130         Jan-13                Jan-14  "
      ]
     },
     "execution_count": 9,
     "metadata": {},
     "output_type": "execute_result"
    }
   ],
   "source": [
    "df.head()"
   ]
  },
  {
   "cell_type": "code",
   "execution_count": 10,
   "id": "f98545ef",
   "metadata": {},
   "outputs": [
    {
     "data": {
      "text/plain": [
       "array(['Jan-15', 'Jan-14', 'Jan-16', 'Feb-14', 'Feb-16', 'Feb-15',\n",
       "       'Feb-17', 'Mar-14', 'Mar-16', 'Mar-15', 'Apr-14', 'Apr-16',\n",
       "       'Apr-15', 'May-14', 'May-16', 'May-17', 'May-15', 'May-13',\n",
       "       'Jun-14', 'Jun-16', 'Jun-15', 'Jun-13', 'Jun-17', 'Jul-14',\n",
       "       'Jul-16', 'Jul-15', 'Aug-14', 'Aug-16', 'Aug-15', 'Sep-14',\n",
       "       'Sep-15', 'Sep-16', 'Sep-18', 'Oct-16', 'Oct-15', 'Oct-14',\n",
       "       'Oct-18', 'Oct-17', 'Nov-14', 'Nov-16', 'Nov-15', 'Nov-17',\n",
       "       'Dec-16', 'Dec-14', 'Dec-15', 'Dec-18', 'Dec-19', 'Jan-17',\n",
       "       'Jan-19', 'Jan-18', 'Feb-19', 'Mar-17', 'Mar-18', 'Apr-17',\n",
       "       'Apr-19', 'Jul-17', 'Jul-19', 'Aug-17', 'Aug-19', 'Sep-17',\n",
       "       'Sep-19', 'Nov-18', 'Dec-17', 'Jan-20', 'Feb-18', 'Mar-20',\n",
       "       'Apr-18', 'Apr-20', 'May-18', 'Jun-18', 'Jun-20', 'Jun-19',\n",
       "       'Jul-18', 'Jul-20', 'Aug-18', 'Aug-20', 'Oct-20', 'Oct-19',\n",
       "       'Nov-20', 'Jan-21', 'Feb-20', 'Feb-21', 'Mar-19', 'Apr-21',\n",
       "       'May-19', 'May-20', 'May-21', 'Sep-20', 'Oct-22', 'Nov-19',\n",
       "       'Nov-21', 'Dec-20', 'Dec-21', 'Mar-21', 'Mar-22', 'Jun-21',\n",
       "       'Jun-22', 'Sep-22', 'Sep-21', 'Oct-21', 'Nov-22', 'Dec-22',\n",
       "       'Jan-22', 'Jan-23', 'Feb-23', 'Feb-22', 'Apr-23', 'Apr-22',\n",
       "       'May-23', 'Jun-23', 'Jul-21', 'Jul-22', 'Jul-23', 'Aug-21',\n",
       "       'Aug-22', 'Aug-23', 'Sep-23', 'Sep-24', 'Oct-23', 'Nov-23',\n",
       "       'Feb-24', 'Mar-24', 'Apr-24', 'May-22', 'Nov-24'], dtype=object)"
      ]
     },
     "execution_count": 10,
     "metadata": {},
     "output_type": "execute_result"
    }
   ],
   "source": [
    "df['OPP_contract_end_date'].unique()"
   ]
  },
  {
   "cell_type": "code",
   "execution_count": 11,
   "id": "50b96fae",
   "metadata": {},
   "outputs": [
    {
     "data": {
      "text/plain": [
       "array(['Jan-13', 'Feb-13', 'Mar-13', 'Apr-13', 'May-13', 'Jun-13',\n",
       "       'Jul-13', 'Aug-13', 'Sep-13', 'Oct-13', 'Nov-13', 'Dec-13',\n",
       "       'Jan-14', 'Feb-14', 'Mar-14', 'Apr-14', 'May-14', 'Jun-14',\n",
       "       'Jul-14', 'Aug-14', 'Sep-14', 'Oct-14', 'Nov-14', 'Dec-14',\n",
       "       'Jan-15', 'Feb-15', 'Mar-15', 'Apr-15', 'May-15', 'Jun-15',\n",
       "       'Jul-15', 'Aug-15', 'Sep-15', 'Oct-15', 'Nov-15', 'Dec-15',\n",
       "       'Jan-16', 'Feb-16', 'Mar-16', 'Apr-16', 'May-16', 'Jun-16',\n",
       "       'Jul-16', 'Aug-16', 'Sep-16', 'Oct-16', 'Nov-16', 'Dec-16',\n",
       "       'Jan-17', 'Feb-17', 'Mar-17', 'Apr-17', 'May-17', 'Jun-17',\n",
       "       'Jul-17', 'Aug-17', 'Sep-17', 'Oct-17', 'Nov-17', 'Dec-17',\n",
       "       'Jan-18', 'Feb-18', 'Mar-18', 'Apr-18', 'May-18', 'Jun-18',\n",
       "       'Jul-18', 'Aug-18', 'Sep-18', 'Oct-18', 'Nov-18', 'Dec-18',\n",
       "       'Jan-19', 'Feb-19', 'Mar-19', 'Apr-19', 'May-19', 'Jun-19',\n",
       "       'Jul-19', 'Aug-19', 'Sep-19', 'Oct-19', 'Nov-19', 'Dec-19',\n",
       "       'Jan-20', 'Feb-20', 'Mar-20', 'Jul-20', 'Oct-20', 'Jul-22'],\n",
       "      dtype=object)"
      ]
     },
     "execution_count": 11,
     "metadata": {},
     "output_type": "execute_result"
    }
   ],
   "source": [
    "df['Opp_Start_Date'].unique()"
   ]
  },
  {
   "cell_type": "markdown",
   "id": "a01a5ab2",
   "metadata": {},
   "source": [
    "# Q 1"
   ]
  },
  {
   "cell_type": "code",
   "execution_count": 12,
   "id": "1a03fe53",
   "metadata": {},
   "outputs": [
    {
     "data": {
      "text/plain": [
       "min   2013-01-02\n",
       "max   2022-07-27\n",
       "Name: Opp Start Date, dtype: datetime64[ns]"
      ]
     },
     "metadata": {},
     "output_type": "display_data"
    },
    {
     "data": {
      "text/plain": [
       "min   2013-05-03\n",
       "max   2024-11-28\n",
       "Name: OPP contract end date, dtype: datetime64[ns]"
      ]
     },
     "metadata": {},
     "output_type": "display_data"
    }
   ],
   "source": [
    "display( df['Opp Start Date'].agg(['min', 'max']) )\n",
    "display( df['OPP contract end date'].agg(['min', 'max']) )"
   ]
  },
  {
   "cell_type": "code",
   "execution_count": 13,
   "id": "ca2547c4",
   "metadata": {},
   "outputs": [],
   "source": [
    "start_date = pd.to_datetime(date(2013,1,1))\n",
    "end_date = pd.to_datetime(date(2019,12,31))\n",
    "#df1 = df[(df['Opp Start Date']>=start_date) & (df['OPP contract end date']<=end_date)]\n",
    "df1 = df[df['OPP contract end date']<=end_date]"
   ]
  },
  {
   "cell_type": "code",
   "execution_count": 14,
   "id": "80373240",
   "metadata": {
    "scrolled": true
   },
   "outputs": [
    {
     "data": {
      "text/html": [
       "<div>\n",
       "<style scoped>\n",
       "    .dataframe tbody tr th:only-of-type {\n",
       "        vertical-align: middle;\n",
       "    }\n",
       "\n",
       "    .dataframe tbody tr th {\n",
       "        vertical-align: top;\n",
       "    }\n",
       "\n",
       "    .dataframe thead th {\n",
       "        text-align: right;\n",
       "    }\n",
       "</style>\n",
       "<table border=\"1\" class=\"dataframe\">\n",
       "  <thead>\n",
       "    <tr style=\"text-align: right;\">\n",
       "      <th></th>\n",
       "      <th>Opp Start Date</th>\n",
       "      <th>OPP contract end date</th>\n",
       "      <th>Unique Account Field</th>\n",
       "      <th>MRR(expected)</th>\n",
       "      <th>Opp_Start_Date</th>\n",
       "      <th>OPP_contract_end_date</th>\n",
       "    </tr>\n",
       "  </thead>\n",
       "  <tbody>\n",
       "    <tr>\n",
       "      <th>0</th>\n",
       "      <td>2013-01-02</td>\n",
       "      <td>2015-01-02</td>\n",
       "      <td>50e55915b8451900a3a1-c413-ecc5-de79-</td>\n",
       "      <td>195</td>\n",
       "      <td>Jan-13</td>\n",
       "      <td>Jan-15</td>\n",
       "    </tr>\n",
       "    <tr>\n",
       "      <th>1</th>\n",
       "      <td>2013-01-02</td>\n",
       "      <td>2014-01-02</td>\n",
       "      <td>4ee75fa519523e447d14-7352-35f4-5dc8-</td>\n",
       "      <td>50</td>\n",
       "      <td>Jan-13</td>\n",
       "      <td>Jan-14</td>\n",
       "    </tr>\n",
       "    <tr>\n",
       "      <th>2</th>\n",
       "      <td>2013-01-02</td>\n",
       "      <td>2014-01-02</td>\n",
       "      <td>4edc9de724bd48ed5f9e-d0a5-2571-c0b8-</td>\n",
       "      <td>139</td>\n",
       "      <td>Jan-13</td>\n",
       "      <td>Jan-14</td>\n",
       "    </tr>\n",
       "    <tr>\n",
       "      <th>3</th>\n",
       "      <td>2013-01-02</td>\n",
       "      <td>2014-01-02</td>\n",
       "      <td>49ec8bd5f38b60ed061d-799a-0698-9510-</td>\n",
       "      <td>105</td>\n",
       "      <td>Jan-13</td>\n",
       "      <td>Jan-14</td>\n",
       "    </tr>\n",
       "    <tr>\n",
       "      <th>4</th>\n",
       "      <td>2013-01-02</td>\n",
       "      <td>2014-01-02</td>\n",
       "      <td>4f04839fbb6e7242a8ac-5757-401f-0947-</td>\n",
       "      <td>130</td>\n",
       "      <td>Jan-13</td>\n",
       "      <td>Jan-14</td>\n",
       "    </tr>\n",
       "  </tbody>\n",
       "</table>\n",
       "</div>"
      ],
      "text/plain": [
       "  Opp Start Date OPP contract end date                  Unique Account Field  \\\n",
       "0     2013-01-02            2015-01-02  50e55915b8451900a3a1-c413-ecc5-de79-   \n",
       "1     2013-01-02            2014-01-02  4ee75fa519523e447d14-7352-35f4-5dc8-   \n",
       "2     2013-01-02            2014-01-02  4edc9de724bd48ed5f9e-d0a5-2571-c0b8-   \n",
       "3     2013-01-02            2014-01-02  49ec8bd5f38b60ed061d-799a-0698-9510-   \n",
       "4     2013-01-02            2014-01-02  4f04839fbb6e7242a8ac-5757-401f-0947-   \n",
       "\n",
       "   MRR(expected) Opp_Start_Date OPP_contract_end_date  \n",
       "0            195         Jan-13                Jan-15  \n",
       "1             50         Jan-13                Jan-14  \n",
       "2            139         Jan-13                Jan-14  \n",
       "3            105         Jan-13                Jan-14  \n",
       "4            130         Jan-13                Jan-14  "
      ]
     },
     "execution_count": 14,
     "metadata": {},
     "output_type": "execute_result"
    }
   ],
   "source": [
    "df1.head()"
   ]
  },
  {
   "cell_type": "code",
   "execution_count": 15,
   "id": "d50352a7",
   "metadata": {},
   "outputs": [
    {
     "data": {
      "text/plain": [
       "(18177, 6)"
      ]
     },
     "execution_count": 15,
     "metadata": {},
     "output_type": "execute_result"
    }
   ],
   "source": [
    "df1.shape"
   ]
  },
  {
   "cell_type": "code",
   "execution_count": 16,
   "id": "5dcc6729",
   "metadata": {
    "scrolled": true
   },
   "outputs": [
    {
     "data": {
      "text/plain": [
       "array(['Jan-15', 'Jan-14', 'Jan-16', 'Feb-14', 'Feb-16', 'Feb-15',\n",
       "       'Feb-17', 'Mar-14', 'Mar-16', 'Mar-15', 'Apr-14', 'Apr-16',\n",
       "       'Apr-15', 'May-14', 'May-16', 'May-17', 'May-15', 'May-13',\n",
       "       'Jun-14', 'Jun-16', 'Jun-15', 'Jun-13', 'Jun-17', 'Jul-14',\n",
       "       'Jul-16', 'Jul-15', 'Aug-14', 'Aug-16', 'Aug-15', 'Sep-14',\n",
       "       'Sep-15', 'Sep-16', 'Sep-18', 'Oct-16', 'Oct-15', 'Oct-14',\n",
       "       'Oct-18', 'Oct-17', 'Nov-14', 'Nov-16', 'Nov-15', 'Nov-17',\n",
       "       'Dec-16', 'Dec-14', 'Dec-15', 'Dec-18', 'Dec-19', 'Jan-17',\n",
       "       'Jan-19', 'Jan-18', 'Feb-19', 'Mar-17', 'Mar-18', 'Apr-17',\n",
       "       'Apr-19', 'Jul-17', 'Jul-19', 'Aug-17', 'Aug-19', 'Sep-17',\n",
       "       'Sep-19', 'Nov-18', 'Dec-17', 'Feb-18', 'Apr-18', 'May-18',\n",
       "       'Jun-18', 'Jun-19', 'Jul-18', 'Aug-18', 'Oct-19', 'Mar-19',\n",
       "       'May-19', 'Nov-19'], dtype=object)"
      ]
     },
     "execution_count": 16,
     "metadata": {},
     "output_type": "execute_result"
    }
   ],
   "source": [
    "df1['OPP_contract_end_date'].unique()"
   ]
  },
  {
   "cell_type": "code",
   "execution_count": 17,
   "id": "bc4f59cd",
   "metadata": {},
   "outputs": [
    {
     "data": {
      "text/plain": [
       "count    18177.000000\n",
       "mean       124.845519\n",
       "std         43.495381\n",
       "min         50.000000\n",
       "25%         87.000000\n",
       "50%        125.000000\n",
       "75%        163.000000\n",
       "max        200.000000\n",
       "Name: MRR(expected), dtype: float64"
      ]
     },
     "metadata": {},
     "output_type": "display_data"
    }
   ],
   "source": [
    "display(df1['MRR(expected)'].describe())"
   ]
  },
  {
   "cell_type": "code",
   "execution_count": 18,
   "id": "e24b29e2",
   "metadata": {},
   "outputs": [
    {
     "name": "stdout",
     "output_type": "stream",
     "text": [
      "Total revenue was generated by month between Jan-2013 and Dec-2019: 2269317\n"
     ]
    }
   ],
   "source": [
    "print(\"Total revenue was generated by month between Jan-2013 and Dec-2019:\" ,df1['MRR(expected)'].sum() )"
   ]
  },
  {
   "cell_type": "markdown",
   "id": "151acba0",
   "metadata": {},
   "source": [
    "# Q 2"
   ]
  },
  {
   "cell_type": "code",
   "execution_count": 19,
   "id": "b6952604",
   "metadata": {},
   "outputs": [
    {
     "data": {
      "text/html": [
       "<div>\n",
       "<style scoped>\n",
       "    .dataframe tbody tr th:only-of-type {\n",
       "        vertical-align: middle;\n",
       "    }\n",
       "\n",
       "    .dataframe tbody tr th {\n",
       "        vertical-align: top;\n",
       "    }\n",
       "\n",
       "    .dataframe thead th {\n",
       "        text-align: right;\n",
       "    }\n",
       "</style>\n",
       "<table border=\"1\" class=\"dataframe\">\n",
       "  <thead>\n",
       "    <tr style=\"text-align: right;\">\n",
       "      <th></th>\n",
       "      <th>Opp Start Date</th>\n",
       "      <th>OPP contract end date</th>\n",
       "      <th>Unique Account Field</th>\n",
       "      <th>MRR(expected)</th>\n",
       "      <th>Opp_Start_Date</th>\n",
       "      <th>OPP_contract_end_date</th>\n",
       "    </tr>\n",
       "  </thead>\n",
       "  <tbody>\n",
       "  </tbody>\n",
       "</table>\n",
       "</div>"
      ],
      "text/plain": [
       "Empty DataFrame\n",
       "Columns: [Opp Start Date, OPP contract end date, Unique Account Field, MRR(expected), Opp_Start_Date, OPP_contract_end_date]\n",
       "Index: []"
      ]
     },
     "execution_count": 19,
     "metadata": {},
     "output_type": "execute_result"
    }
   ],
   "source": [
    "duplicate = df1[df1.duplicated()]\n",
    "duplicate"
   ]
  },
  {
   "cell_type": "code",
   "execution_count": 52,
   "id": "cfbbd856",
   "metadata": {},
   "outputs": [],
   "source": [
    "# there is no duplicate entries"
   ]
  },
  {
   "cell_type": "code",
   "execution_count": 20,
   "id": "edd0ef91",
   "metadata": {},
   "outputs": [],
   "source": [
    "active_contracts = df1\n",
    "active_contracts['contract'] = 1"
   ]
  },
  {
   "cell_type": "code",
   "execution_count": 21,
   "id": "8fcce491",
   "metadata": {},
   "outputs": [],
   "source": [
    "monthly_active_contracts = (active_contracts.set_index('Opp_Start_Date').groupby(['Opp_Start_Date','OPP_contract_end_date'])['contract'].sum().reset_index())"
   ]
  },
  {
   "cell_type": "code",
   "execution_count": 22,
   "id": "05d61d74",
   "metadata": {},
   "outputs": [
    {
     "data": {
      "text/html": [
       "<div>\n",
       "<style scoped>\n",
       "    .dataframe tbody tr th:only-of-type {\n",
       "        vertical-align: middle;\n",
       "    }\n",
       "\n",
       "    .dataframe tbody tr th {\n",
       "        vertical-align: top;\n",
       "    }\n",
       "\n",
       "    .dataframe thead th {\n",
       "        text-align: right;\n",
       "    }\n",
       "</style>\n",
       "<table border=\"1\" class=\"dataframe\">\n",
       "  <thead>\n",
       "    <tr style=\"text-align: right;\">\n",
       "      <th></th>\n",
       "      <th>Opp_Start_Date</th>\n",
       "      <th>OPP_contract_end_date</th>\n",
       "      <th>contract</th>\n",
       "    </tr>\n",
       "  </thead>\n",
       "  <tbody>\n",
       "    <tr>\n",
       "      <th>0</th>\n",
       "      <td>Apr-13</td>\n",
       "      <td>Apr-14</td>\n",
       "      <td>150</td>\n",
       "    </tr>\n",
       "    <tr>\n",
       "      <th>1</th>\n",
       "      <td>Apr-13</td>\n",
       "      <td>Apr-15</td>\n",
       "      <td>17</td>\n",
       "    </tr>\n",
       "    <tr>\n",
       "      <th>2</th>\n",
       "      <td>Apr-13</td>\n",
       "      <td>Apr-16</td>\n",
       "      <td>36</td>\n",
       "    </tr>\n",
       "    <tr>\n",
       "      <th>3</th>\n",
       "      <td>Apr-14</td>\n",
       "      <td>Apr-15</td>\n",
       "      <td>151</td>\n",
       "    </tr>\n",
       "    <tr>\n",
       "      <th>4</th>\n",
       "      <td>Apr-14</td>\n",
       "      <td>Apr-16</td>\n",
       "      <td>18</td>\n",
       "    </tr>\n",
       "    <tr>\n",
       "      <th>...</th>\n",
       "      <td>...</td>\n",
       "      <td>...</td>\n",
       "      <td>...</td>\n",
       "    </tr>\n",
       "    <tr>\n",
       "      <th>212</th>\n",
       "      <td>Sep-16</td>\n",
       "      <td>Sep-19</td>\n",
       "      <td>70</td>\n",
       "    </tr>\n",
       "    <tr>\n",
       "      <th>213</th>\n",
       "      <td>Sep-17</td>\n",
       "      <td>Sep-18</td>\n",
       "      <td>231</td>\n",
       "    </tr>\n",
       "    <tr>\n",
       "      <th>214</th>\n",
       "      <td>Sep-17</td>\n",
       "      <td>Sep-19</td>\n",
       "      <td>26</td>\n",
       "    </tr>\n",
       "    <tr>\n",
       "      <th>215</th>\n",
       "      <td>Sep-18</td>\n",
       "      <td>Sep-18</td>\n",
       "      <td>1</td>\n",
       "    </tr>\n",
       "    <tr>\n",
       "      <th>216</th>\n",
       "      <td>Sep-18</td>\n",
       "      <td>Sep-19</td>\n",
       "      <td>236</td>\n",
       "    </tr>\n",
       "  </tbody>\n",
       "</table>\n",
       "<p>217 rows × 3 columns</p>\n",
       "</div>"
      ],
      "text/plain": [
       "    Opp_Start_Date OPP_contract_end_date  contract\n",
       "0           Apr-13                Apr-14       150\n",
       "1           Apr-13                Apr-15        17\n",
       "2           Apr-13                Apr-16        36\n",
       "3           Apr-14                Apr-15       151\n",
       "4           Apr-14                Apr-16        18\n",
       "..             ...                   ...       ...\n",
       "212         Sep-16                Sep-19        70\n",
       "213         Sep-17                Sep-18       231\n",
       "214         Sep-17                Sep-19        26\n",
       "215         Sep-18                Sep-18         1\n",
       "216         Sep-18                Sep-19       236\n",
       "\n",
       "[217 rows x 3 columns]"
      ]
     },
     "execution_count": 22,
     "metadata": {},
     "output_type": "execute_result"
    }
   ],
   "source": [
    "monthly_active_contracts"
   ]
  },
  {
   "cell_type": "code",
   "execution_count": 23,
   "id": "17a3b598",
   "metadata": {},
   "outputs": [],
   "source": [
    "monthly_active_contracts.to_csv('Q2.csv')"
   ]
  },
  {
   "cell_type": "code",
   "execution_count": 24,
   "id": "14d60041",
   "metadata": {},
   "outputs": [],
   "source": [
    "monthly_active_accounts = (df1.set_index('Opp_Start_Date').groupby(['Opp_Start_Date','OPP_contract_end_date'])['Unique Account Field'].count().reset_index())"
   ]
  },
  {
   "cell_type": "code",
   "execution_count": 25,
   "id": "0613fb50",
   "metadata": {},
   "outputs": [
    {
     "data": {
      "text/html": [
       "<div>\n",
       "<style scoped>\n",
       "    .dataframe tbody tr th:only-of-type {\n",
       "        vertical-align: middle;\n",
       "    }\n",
       "\n",
       "    .dataframe tbody tr th {\n",
       "        vertical-align: top;\n",
       "    }\n",
       "\n",
       "    .dataframe thead th {\n",
       "        text-align: right;\n",
       "    }\n",
       "</style>\n",
       "<table border=\"1\" class=\"dataframe\">\n",
       "  <thead>\n",
       "    <tr style=\"text-align: right;\">\n",
       "      <th></th>\n",
       "      <th>Opp_Start_Date</th>\n",
       "      <th>OPP_contract_end_date</th>\n",
       "      <th>Unique Account Field</th>\n",
       "    </tr>\n",
       "  </thead>\n",
       "  <tbody>\n",
       "    <tr>\n",
       "      <th>0</th>\n",
       "      <td>Apr-13</td>\n",
       "      <td>Apr-14</td>\n",
       "      <td>150</td>\n",
       "    </tr>\n",
       "    <tr>\n",
       "      <th>1</th>\n",
       "      <td>Apr-13</td>\n",
       "      <td>Apr-15</td>\n",
       "      <td>17</td>\n",
       "    </tr>\n",
       "    <tr>\n",
       "      <th>2</th>\n",
       "      <td>Apr-13</td>\n",
       "      <td>Apr-16</td>\n",
       "      <td>36</td>\n",
       "    </tr>\n",
       "    <tr>\n",
       "      <th>3</th>\n",
       "      <td>Apr-14</td>\n",
       "      <td>Apr-15</td>\n",
       "      <td>151</td>\n",
       "    </tr>\n",
       "    <tr>\n",
       "      <th>4</th>\n",
       "      <td>Apr-14</td>\n",
       "      <td>Apr-16</td>\n",
       "      <td>18</td>\n",
       "    </tr>\n",
       "    <tr>\n",
       "      <th>...</th>\n",
       "      <td>...</td>\n",
       "      <td>...</td>\n",
       "      <td>...</td>\n",
       "    </tr>\n",
       "    <tr>\n",
       "      <th>212</th>\n",
       "      <td>Sep-16</td>\n",
       "      <td>Sep-19</td>\n",
       "      <td>70</td>\n",
       "    </tr>\n",
       "    <tr>\n",
       "      <th>213</th>\n",
       "      <td>Sep-17</td>\n",
       "      <td>Sep-18</td>\n",
       "      <td>231</td>\n",
       "    </tr>\n",
       "    <tr>\n",
       "      <th>214</th>\n",
       "      <td>Sep-17</td>\n",
       "      <td>Sep-19</td>\n",
       "      <td>26</td>\n",
       "    </tr>\n",
       "    <tr>\n",
       "      <th>215</th>\n",
       "      <td>Sep-18</td>\n",
       "      <td>Sep-18</td>\n",
       "      <td>1</td>\n",
       "    </tr>\n",
       "    <tr>\n",
       "      <th>216</th>\n",
       "      <td>Sep-18</td>\n",
       "      <td>Sep-19</td>\n",
       "      <td>236</td>\n",
       "    </tr>\n",
       "  </tbody>\n",
       "</table>\n",
       "<p>217 rows × 3 columns</p>\n",
       "</div>"
      ],
      "text/plain": [
       "    Opp_Start_Date OPP_contract_end_date  Unique Account Field\n",
       "0           Apr-13                Apr-14                   150\n",
       "1           Apr-13                Apr-15                    17\n",
       "2           Apr-13                Apr-16                    36\n",
       "3           Apr-14                Apr-15                   151\n",
       "4           Apr-14                Apr-16                    18\n",
       "..             ...                   ...                   ...\n",
       "212         Sep-16                Sep-19                    70\n",
       "213         Sep-17                Sep-18                   231\n",
       "214         Sep-17                Sep-19                    26\n",
       "215         Sep-18                Sep-18                     1\n",
       "216         Sep-18                Sep-19                   236\n",
       "\n",
       "[217 rows x 3 columns]"
      ]
     },
     "execution_count": 25,
     "metadata": {},
     "output_type": "execute_result"
    }
   ],
   "source": [
    "monthly_active_accounts"
   ]
  },
  {
   "cell_type": "code",
   "execution_count": null,
   "id": "43563ca2",
   "metadata": {},
   "outputs": [],
   "source": []
  },
  {
   "cell_type": "code",
   "execution_count": null,
   "id": "b2a93f3b",
   "metadata": {},
   "outputs": [],
   "source": []
  },
  {
   "cell_type": "markdown",
   "id": "728a55d3",
   "metadata": {},
   "source": [
    "# Q 3"
   ]
  },
  {
   "cell_type": "code",
   "execution_count": 26,
   "id": "60d7d294",
   "metadata": {},
   "outputs": [],
   "source": [
    "df2 = df"
   ]
  },
  {
   "cell_type": "code",
   "execution_count": 27,
   "id": "ad17342b",
   "metadata": {},
   "outputs": [
    {
     "data": {
      "text/html": [
       "<div>\n",
       "<style scoped>\n",
       "    .dataframe tbody tr th:only-of-type {\n",
       "        vertical-align: middle;\n",
       "    }\n",
       "\n",
       "    .dataframe tbody tr th {\n",
       "        vertical-align: top;\n",
       "    }\n",
       "\n",
       "    .dataframe thead th {\n",
       "        text-align: right;\n",
       "    }\n",
       "</style>\n",
       "<table border=\"1\" class=\"dataframe\">\n",
       "  <thead>\n",
       "    <tr style=\"text-align: right;\">\n",
       "      <th></th>\n",
       "      <th>Opp Start Date</th>\n",
       "      <th>OPP contract end date</th>\n",
       "      <th>Unique Account Field</th>\n",
       "      <th>MRR(expected)</th>\n",
       "      <th>Opp_Start_Date</th>\n",
       "      <th>OPP_contract_end_date</th>\n",
       "      <th>Months</th>\n",
       "    </tr>\n",
       "  </thead>\n",
       "  <tbody>\n",
       "    <tr>\n",
       "      <th>0</th>\n",
       "      <td>2013-01-02</td>\n",
       "      <td>2015-01-02</td>\n",
       "      <td>50e55915b8451900a3a1-c413-ecc5-de79-</td>\n",
       "      <td>195</td>\n",
       "      <td>Jan-13</td>\n",
       "      <td>Jan-15</td>\n",
       "      <td>24</td>\n",
       "    </tr>\n",
       "    <tr>\n",
       "      <th>1</th>\n",
       "      <td>2013-01-02</td>\n",
       "      <td>2014-01-02</td>\n",
       "      <td>4ee75fa519523e447d14-7352-35f4-5dc8-</td>\n",
       "      <td>50</td>\n",
       "      <td>Jan-13</td>\n",
       "      <td>Jan-14</td>\n",
       "      <td>12</td>\n",
       "    </tr>\n",
       "    <tr>\n",
       "      <th>2</th>\n",
       "      <td>2013-01-02</td>\n",
       "      <td>2014-01-02</td>\n",
       "      <td>4edc9de724bd48ed5f9e-d0a5-2571-c0b8-</td>\n",
       "      <td>139</td>\n",
       "      <td>Jan-13</td>\n",
       "      <td>Jan-14</td>\n",
       "      <td>12</td>\n",
       "    </tr>\n",
       "    <tr>\n",
       "      <th>3</th>\n",
       "      <td>2013-01-02</td>\n",
       "      <td>2014-01-02</td>\n",
       "      <td>49ec8bd5f38b60ed061d-799a-0698-9510-</td>\n",
       "      <td>105</td>\n",
       "      <td>Jan-13</td>\n",
       "      <td>Jan-14</td>\n",
       "      <td>12</td>\n",
       "    </tr>\n",
       "    <tr>\n",
       "      <th>4</th>\n",
       "      <td>2013-01-02</td>\n",
       "      <td>2014-01-02</td>\n",
       "      <td>4f04839fbb6e7242a8ac-5757-401f-0947-</td>\n",
       "      <td>130</td>\n",
       "      <td>Jan-13</td>\n",
       "      <td>Jan-14</td>\n",
       "      <td>12</td>\n",
       "    </tr>\n",
       "    <tr>\n",
       "      <th>...</th>\n",
       "      <td>...</td>\n",
       "      <td>...</td>\n",
       "      <td>...</td>\n",
       "      <td>...</td>\n",
       "      <td>...</td>\n",
       "      <td>...</td>\n",
       "      <td>...</td>\n",
       "    </tr>\n",
       "    <tr>\n",
       "      <th>25124</th>\n",
       "      <td>2020-03-22</td>\n",
       "      <td>2021-03-22</td>\n",
       "      <td>49f59b9861961dd967b9-34b4-eab4-9ef8-</td>\n",
       "      <td>157</td>\n",
       "      <td>Mar-20</td>\n",
       "      <td>Mar-21</td>\n",
       "      <td>12</td>\n",
       "    </tr>\n",
       "    <tr>\n",
       "      <th>25125</th>\n",
       "      <td>2020-03-23</td>\n",
       "      <td>2021-03-23</td>\n",
       "      <td>49f59b9861961dd967b9-34b4-eab4-9ef8-</td>\n",
       "      <td>115</td>\n",
       "      <td>Mar-20</td>\n",
       "      <td>Mar-21</td>\n",
       "      <td>12</td>\n",
       "    </tr>\n",
       "    <tr>\n",
       "      <th>25126</th>\n",
       "      <td>2020-07-31</td>\n",
       "      <td>2022-07-31</td>\n",
       "      <td>0255846cabe417bd4418-153f-11e7-9be6-</td>\n",
       "      <td>117</td>\n",
       "      <td>Jul-20</td>\n",
       "      <td>Jul-22</td>\n",
       "      <td>24</td>\n",
       "    </tr>\n",
       "    <tr>\n",
       "      <th>25127</th>\n",
       "      <td>2020-10-01</td>\n",
       "      <td>2021-10-01</td>\n",
       "      <td>0255846cabe4dba3647a-54e1-11e7-826b-</td>\n",
       "      <td>70</td>\n",
       "      <td>Oct-20</td>\n",
       "      <td>Oct-21</td>\n",
       "      <td>12</td>\n",
       "    </tr>\n",
       "    <tr>\n",
       "      <th>25128</th>\n",
       "      <td>2022-07-27</td>\n",
       "      <td>2023-07-27</td>\n",
       "      <td>4ea529352353211d2a56-ba6c-d4ae-3675-</td>\n",
       "      <td>65</td>\n",
       "      <td>Jul-22</td>\n",
       "      <td>Jul-23</td>\n",
       "      <td>12</td>\n",
       "    </tr>\n",
       "  </tbody>\n",
       "</table>\n",
       "<p>25129 rows × 7 columns</p>\n",
       "</div>"
      ],
      "text/plain": [
       "      Opp Start Date OPP contract end date  \\\n",
       "0         2013-01-02            2015-01-02   \n",
       "1         2013-01-02            2014-01-02   \n",
       "2         2013-01-02            2014-01-02   \n",
       "3         2013-01-02            2014-01-02   \n",
       "4         2013-01-02            2014-01-02   \n",
       "...              ...                   ...   \n",
       "25124     2020-03-22            2021-03-22   \n",
       "25125     2020-03-23            2021-03-23   \n",
       "25126     2020-07-31            2022-07-31   \n",
       "25127     2020-10-01            2021-10-01   \n",
       "25128     2022-07-27            2023-07-27   \n",
       "\n",
       "                       Unique Account Field  MRR(expected) Opp_Start_Date  \\\n",
       "0      50e55915b8451900a3a1-c413-ecc5-de79-            195         Jan-13   \n",
       "1      4ee75fa519523e447d14-7352-35f4-5dc8-             50         Jan-13   \n",
       "2      4edc9de724bd48ed5f9e-d0a5-2571-c0b8-            139         Jan-13   \n",
       "3      49ec8bd5f38b60ed061d-799a-0698-9510-            105         Jan-13   \n",
       "4      4f04839fbb6e7242a8ac-5757-401f-0947-            130         Jan-13   \n",
       "...                                     ...            ...            ...   \n",
       "25124  49f59b9861961dd967b9-34b4-eab4-9ef8-            157         Mar-20   \n",
       "25125  49f59b9861961dd967b9-34b4-eab4-9ef8-            115         Mar-20   \n",
       "25126  0255846cabe417bd4418-153f-11e7-9be6-            117         Jul-20   \n",
       "25127  0255846cabe4dba3647a-54e1-11e7-826b-             70         Oct-20   \n",
       "25128  4ea529352353211d2a56-ba6c-d4ae-3675-             65         Jul-22   \n",
       "\n",
       "      OPP_contract_end_date  Months  \n",
       "0                    Jan-15      24  \n",
       "1                    Jan-14      12  \n",
       "2                    Jan-14      12  \n",
       "3                    Jan-14      12  \n",
       "4                    Jan-14      12  \n",
       "...                     ...     ...  \n",
       "25124                Mar-21      12  \n",
       "25125                Mar-21      12  \n",
       "25126                Jul-22      24  \n",
       "25127                Oct-21      12  \n",
       "25128                Jul-23      12  \n",
       "\n",
       "[25129 rows x 7 columns]"
      ]
     },
     "execution_count": 27,
     "metadata": {},
     "output_type": "execute_result"
    }
   ],
   "source": [
    "df2['Months'] = df2['OPP contract end date'].dt.to_period('M').astype(int) - df2['Opp Start Date'].dt.to_period('M').astype(int)\n",
    "df2"
   ]
  },
  {
   "cell_type": "code",
   "execution_count": 28,
   "id": "9c3a14dd",
   "metadata": {},
   "outputs": [
    {
     "data": {
      "text/plain": [
       "array([24, 12, 36, 48,  0, 60, 72, 13, 37, 25], dtype=int64)"
      ]
     },
     "execution_count": 28,
     "metadata": {},
     "output_type": "execute_result"
    }
   ],
   "source": [
    "df2['Months'].unique()"
   ]
  },
  {
   "cell_type": "code",
   "execution_count": 29,
   "id": "2198c74e",
   "metadata": {},
   "outputs": [],
   "source": [
    "df2[\"contract\"] = \"\"\n",
    "df2.loc[df2['Months'] != 0, ['contract']] = 1\n",
    "df2.loc[df2['Months'] == 0, ['contract']] = 0"
   ]
  },
  {
   "cell_type": "code",
   "execution_count": 30,
   "id": "8969119a",
   "metadata": {},
   "outputs": [],
   "source": [
    "start_date = pd.to_datetime(date(2013,1,1))\n",
    "end_date = pd.to_datetime(date(2019,12,31))\n",
    "df2 = df2[df2['OPP contract end date']<=end_date]"
   ]
  },
  {
   "cell_type": "code",
   "execution_count": 31,
   "id": "037f1af6",
   "metadata": {},
   "outputs": [],
   "source": [
    "df22 = df2[~(df2[\"contract\"]==0)]"
   ]
  },
  {
   "cell_type": "code",
   "execution_count": 32,
   "id": "c86337d8",
   "metadata": {},
   "outputs": [
    {
     "data": {
      "text/html": [
       "<div>\n",
       "<style scoped>\n",
       "    .dataframe tbody tr th:only-of-type {\n",
       "        vertical-align: middle;\n",
       "    }\n",
       "\n",
       "    .dataframe tbody tr th {\n",
       "        vertical-align: top;\n",
       "    }\n",
       "\n",
       "    .dataframe thead th {\n",
       "        text-align: right;\n",
       "    }\n",
       "</style>\n",
       "<table border=\"1\" class=\"dataframe\">\n",
       "  <thead>\n",
       "    <tr style=\"text-align: right;\">\n",
       "      <th></th>\n",
       "      <th>Opp_Start_Date</th>\n",
       "      <th>OPP_contract_end_date</th>\n",
       "      <th>contract</th>\n",
       "    </tr>\n",
       "  </thead>\n",
       "  <tbody>\n",
       "    <tr>\n",
       "      <th>0</th>\n",
       "      <td>Apr-13</td>\n",
       "      <td>Apr-14</td>\n",
       "      <td>150</td>\n",
       "    </tr>\n",
       "    <tr>\n",
       "      <th>1</th>\n",
       "      <td>Apr-13</td>\n",
       "      <td>Apr-15</td>\n",
       "      <td>17</td>\n",
       "    </tr>\n",
       "    <tr>\n",
       "      <th>2</th>\n",
       "      <td>Apr-13</td>\n",
       "      <td>Apr-16</td>\n",
       "      <td>36</td>\n",
       "    </tr>\n",
       "    <tr>\n",
       "      <th>3</th>\n",
       "      <td>Apr-14</td>\n",
       "      <td>Apr-15</td>\n",
       "      <td>151</td>\n",
       "    </tr>\n",
       "    <tr>\n",
       "      <th>4</th>\n",
       "      <td>Apr-14</td>\n",
       "      <td>Apr-16</td>\n",
       "      <td>18</td>\n",
       "    </tr>\n",
       "    <tr>\n",
       "      <th>...</th>\n",
       "      <td>...</td>\n",
       "      <td>...</td>\n",
       "      <td>...</td>\n",
       "    </tr>\n",
       "    <tr>\n",
       "      <th>203</th>\n",
       "      <td>Sep-16</td>\n",
       "      <td>Sep-18</td>\n",
       "      <td>21</td>\n",
       "    </tr>\n",
       "    <tr>\n",
       "      <th>204</th>\n",
       "      <td>Sep-16</td>\n",
       "      <td>Sep-19</td>\n",
       "      <td>70</td>\n",
       "    </tr>\n",
       "    <tr>\n",
       "      <th>205</th>\n",
       "      <td>Sep-17</td>\n",
       "      <td>Sep-18</td>\n",
       "      <td>231</td>\n",
       "    </tr>\n",
       "    <tr>\n",
       "      <th>206</th>\n",
       "      <td>Sep-17</td>\n",
       "      <td>Sep-19</td>\n",
       "      <td>26</td>\n",
       "    </tr>\n",
       "    <tr>\n",
       "      <th>207</th>\n",
       "      <td>Sep-18</td>\n",
       "      <td>Sep-19</td>\n",
       "      <td>236</td>\n",
       "    </tr>\n",
       "  </tbody>\n",
       "</table>\n",
       "<p>208 rows × 3 columns</p>\n",
       "</div>"
      ],
      "text/plain": [
       "    Opp_Start_Date OPP_contract_end_date contract\n",
       "0           Apr-13                Apr-14      150\n",
       "1           Apr-13                Apr-15       17\n",
       "2           Apr-13                Apr-16       36\n",
       "3           Apr-14                Apr-15      151\n",
       "4           Apr-14                Apr-16       18\n",
       "..             ...                   ...      ...\n",
       "203         Sep-16                Sep-18       21\n",
       "204         Sep-16                Sep-19       70\n",
       "205         Sep-17                Sep-18      231\n",
       "206         Sep-17                Sep-19       26\n",
       "207         Sep-18                Sep-19      236\n",
       "\n",
       "[208 rows x 3 columns]"
      ]
     },
     "execution_count": 32,
     "metadata": {},
     "output_type": "execute_result"
    }
   ],
   "source": [
    "active_accounts = (df22.set_index('Opp_Start_Date').groupby(['Opp_Start_Date','OPP_contract_end_date'])['contract'].sum().reset_index())\n",
    "active_accounts"
   ]
  },
  {
   "cell_type": "code",
   "execution_count": 33,
   "id": "e0e77f64",
   "metadata": {},
   "outputs": [],
   "source": [
    "active_accounts.to_csv('Q3.csv')"
   ]
  },
  {
   "cell_type": "code",
   "execution_count": null,
   "id": "011ee6f7",
   "metadata": {},
   "outputs": [],
   "source": []
  },
  {
   "cell_type": "markdown",
   "id": "1d9c9539",
   "metadata": {},
   "source": [
    "# Q 4"
   ]
  },
  {
   "cell_type": "code",
   "execution_count": 34,
   "id": "69b1cd5e",
   "metadata": {},
   "outputs": [
    {
     "data": {
      "text/html": [
       "<div>\n",
       "<style scoped>\n",
       "    .dataframe tbody tr th:only-of-type {\n",
       "        vertical-align: middle;\n",
       "    }\n",
       "\n",
       "    .dataframe tbody tr th {\n",
       "        vertical-align: top;\n",
       "    }\n",
       "\n",
       "    .dataframe thead th {\n",
       "        text-align: right;\n",
       "    }\n",
       "</style>\n",
       "<table border=\"1\" class=\"dataframe\">\n",
       "  <thead>\n",
       "    <tr style=\"text-align: right;\">\n",
       "      <th></th>\n",
       "      <th>Opp Start Date</th>\n",
       "      <th>OPP contract end date</th>\n",
       "      <th>Unique Account Field</th>\n",
       "      <th>MRR(expected)</th>\n",
       "    </tr>\n",
       "  </thead>\n",
       "  <tbody>\n",
       "    <tr>\n",
       "      <th>0</th>\n",
       "      <td>2013-01-02</td>\n",
       "      <td>2015-01-02</td>\n",
       "      <td>50e55915b8451900a3a1-c413-ecc5-de79-</td>\n",
       "      <td>195</td>\n",
       "    </tr>\n",
       "    <tr>\n",
       "      <th>1</th>\n",
       "      <td>2013-01-02</td>\n",
       "      <td>2014-01-02</td>\n",
       "      <td>4ee75fa519523e447d14-7352-35f4-5dc8-</td>\n",
       "      <td>50</td>\n",
       "    </tr>\n",
       "    <tr>\n",
       "      <th>2</th>\n",
       "      <td>2013-01-02</td>\n",
       "      <td>2014-01-02</td>\n",
       "      <td>4edc9de724bd48ed5f9e-d0a5-2571-c0b8-</td>\n",
       "      <td>139</td>\n",
       "    </tr>\n",
       "    <tr>\n",
       "      <th>3</th>\n",
       "      <td>2013-01-02</td>\n",
       "      <td>2014-01-02</td>\n",
       "      <td>49ec8bd5f38b60ed061d-799a-0698-9510-</td>\n",
       "      <td>105</td>\n",
       "    </tr>\n",
       "    <tr>\n",
       "      <th>4</th>\n",
       "      <td>2013-01-02</td>\n",
       "      <td>2014-01-02</td>\n",
       "      <td>4f04839fbb6e7242a8ac-5757-401f-0947-</td>\n",
       "      <td>130</td>\n",
       "    </tr>\n",
       "  </tbody>\n",
       "</table>\n",
       "</div>"
      ],
      "text/plain": [
       "  Opp Start Date OPP contract end date                  Unique Account Field  \\\n",
       "0     2013-01-02            2015-01-02  50e55915b8451900a3a1-c413-ecc5-de79-   \n",
       "1     2013-01-02            2014-01-02  4ee75fa519523e447d14-7352-35f4-5dc8-   \n",
       "2     2013-01-02            2014-01-02  4edc9de724bd48ed5f9e-d0a5-2571-c0b8-   \n",
       "3     2013-01-02            2014-01-02  49ec8bd5f38b60ed061d-799a-0698-9510-   \n",
       "4     2013-01-02            2014-01-02  4f04839fbb6e7242a8ac-5757-401f-0947-   \n",
       "\n",
       "   MRR(expected)  \n",
       "0            195  \n",
       "1             50  \n",
       "2            139  \n",
       "3            105  \n",
       "4            130  "
      ]
     },
     "execution_count": 34,
     "metadata": {},
     "output_type": "execute_result"
    }
   ],
   "source": [
    "df = pd.read_excel(\"Analytical task.xlsx\", sheet_name='Analytical task')\n",
    "df.head()"
   ]
  },
  {
   "cell_type": "code",
   "execution_count": 35,
   "id": "afa50308",
   "metadata": {},
   "outputs": [],
   "source": [
    "df['opp_start_year'] = df['Opp Start Date'].dt.year\n",
    "df['opp_start_mt'] = df['Opp Start Date'].dt.month"
   ]
  },
  {
   "cell_type": "code",
   "execution_count": 36,
   "id": "8f7eee60",
   "metadata": {
    "scrolled": true
   },
   "outputs": [
    {
     "data": {
      "text/html": [
       "<div>\n",
       "<style scoped>\n",
       "    .dataframe tbody tr th:only-of-type {\n",
       "        vertical-align: middle;\n",
       "    }\n",
       "\n",
       "    .dataframe tbody tr th {\n",
       "        vertical-align: top;\n",
       "    }\n",
       "\n",
       "    .dataframe thead th {\n",
       "        text-align: right;\n",
       "    }\n",
       "</style>\n",
       "<table border=\"1\" class=\"dataframe\">\n",
       "  <thead>\n",
       "    <tr style=\"text-align: right;\">\n",
       "      <th></th>\n",
       "      <th>Opp Start Date</th>\n",
       "      <th>OPP contract end date</th>\n",
       "      <th>Unique Account Field</th>\n",
       "      <th>MRR(expected)</th>\n",
       "      <th>opp_start_year</th>\n",
       "      <th>opp_start_mt</th>\n",
       "    </tr>\n",
       "  </thead>\n",
       "  <tbody>\n",
       "    <tr>\n",
       "      <th>0</th>\n",
       "      <td>2013-01-02</td>\n",
       "      <td>2015-01-02</td>\n",
       "      <td>50e55915b8451900a3a1-c413-ecc5-de79-</td>\n",
       "      <td>195</td>\n",
       "      <td>2013</td>\n",
       "      <td>1</td>\n",
       "    </tr>\n",
       "    <tr>\n",
       "      <th>1</th>\n",
       "      <td>2013-01-02</td>\n",
       "      <td>2014-01-02</td>\n",
       "      <td>4ee75fa519523e447d14-7352-35f4-5dc8-</td>\n",
       "      <td>50</td>\n",
       "      <td>2013</td>\n",
       "      <td>1</td>\n",
       "    </tr>\n",
       "    <tr>\n",
       "      <th>2</th>\n",
       "      <td>2013-01-02</td>\n",
       "      <td>2014-01-02</td>\n",
       "      <td>4edc9de724bd48ed5f9e-d0a5-2571-c0b8-</td>\n",
       "      <td>139</td>\n",
       "      <td>2013</td>\n",
       "      <td>1</td>\n",
       "    </tr>\n",
       "    <tr>\n",
       "      <th>3</th>\n",
       "      <td>2013-01-02</td>\n",
       "      <td>2014-01-02</td>\n",
       "      <td>49ec8bd5f38b60ed061d-799a-0698-9510-</td>\n",
       "      <td>105</td>\n",
       "      <td>2013</td>\n",
       "      <td>1</td>\n",
       "    </tr>\n",
       "    <tr>\n",
       "      <th>4</th>\n",
       "      <td>2013-01-02</td>\n",
       "      <td>2014-01-02</td>\n",
       "      <td>4f04839fbb6e7242a8ac-5757-401f-0947-</td>\n",
       "      <td>130</td>\n",
       "      <td>2013</td>\n",
       "      <td>1</td>\n",
       "    </tr>\n",
       "  </tbody>\n",
       "</table>\n",
       "</div>"
      ],
      "text/plain": [
       "  Opp Start Date OPP contract end date                  Unique Account Field  \\\n",
       "0     2013-01-02            2015-01-02  50e55915b8451900a3a1-c413-ecc5-de79-   \n",
       "1     2013-01-02            2014-01-02  4ee75fa519523e447d14-7352-35f4-5dc8-   \n",
       "2     2013-01-02            2014-01-02  4edc9de724bd48ed5f9e-d0a5-2571-c0b8-   \n",
       "3     2013-01-02            2014-01-02  49ec8bd5f38b60ed061d-799a-0698-9510-   \n",
       "4     2013-01-02            2014-01-02  4f04839fbb6e7242a8ac-5757-401f-0947-   \n",
       "\n",
       "   MRR(expected)  opp_start_year  opp_start_mt  \n",
       "0            195            2013             1  \n",
       "1             50            2013             1  \n",
       "2            139            2013             1  \n",
       "3            105            2013             1  \n",
       "4            130            2013             1  "
      ]
     },
     "execution_count": 36,
     "metadata": {},
     "output_type": "execute_result"
    }
   ],
   "source": [
    "df.head()"
   ]
  },
  {
   "cell_type": "markdown",
   "id": "7df47715",
   "metadata": {},
   "source": [
    "#### Checking yearly performances based on Opp Start Date"
   ]
  },
  {
   "cell_type": "code",
   "execution_count": 37,
   "id": "c929916f",
   "metadata": {},
   "outputs": [
    {
     "data": {
      "text/html": [
       "<div>\n",
       "<style scoped>\n",
       "    .dataframe tbody tr th:only-of-type {\n",
       "        vertical-align: middle;\n",
       "    }\n",
       "\n",
       "    .dataframe tbody tr th {\n",
       "        vertical-align: top;\n",
       "    }\n",
       "\n",
       "    .dataframe thead th {\n",
       "        text-align: right;\n",
       "    }\n",
       "</style>\n",
       "<table border=\"1\" class=\"dataframe\">\n",
       "  <thead>\n",
       "    <tr style=\"text-align: right;\">\n",
       "      <th></th>\n",
       "      <th>MRR(expected)</th>\n",
       "      <th>opp_start_mt</th>\n",
       "    </tr>\n",
       "    <tr>\n",
       "      <th>opp_start_year</th>\n",
       "      <th></th>\n",
       "      <th></th>\n",
       "    </tr>\n",
       "  </thead>\n",
       "  <tbody>\n",
       "    <tr>\n",
       "      <th>2013</th>\n",
       "      <td>321065</td>\n",
       "      <td>18139</td>\n",
       "    </tr>\n",
       "    <tr>\n",
       "      <th>2014</th>\n",
       "      <td>386941</td>\n",
       "      <td>21884</td>\n",
       "    </tr>\n",
       "    <tr>\n",
       "      <th>2015</th>\n",
       "      <td>393002</td>\n",
       "      <td>21010</td>\n",
       "    </tr>\n",
       "    <tr>\n",
       "      <th>2016</th>\n",
       "      <td>464845</td>\n",
       "      <td>25816</td>\n",
       "    </tr>\n",
       "    <tr>\n",
       "      <th>2017</th>\n",
       "      <td>464389</td>\n",
       "      <td>25150</td>\n",
       "    </tr>\n",
       "    <tr>\n",
       "      <th>2018</th>\n",
       "      <td>510547</td>\n",
       "      <td>27661</td>\n",
       "    </tr>\n",
       "    <tr>\n",
       "      <th>2019</th>\n",
       "      <td>574973</td>\n",
       "      <td>30516</td>\n",
       "    </tr>\n",
       "    <tr>\n",
       "      <th>2020</th>\n",
       "      <td>17607</td>\n",
       "      <td>178</td>\n",
       "    </tr>\n",
       "    <tr>\n",
       "      <th>2022</th>\n",
       "      <td>65</td>\n",
       "      <td>7</td>\n",
       "    </tr>\n",
       "  </tbody>\n",
       "</table>\n",
       "</div>"
      ],
      "text/plain": [
       "                MRR(expected)  opp_start_mt\n",
       "opp_start_year                             \n",
       "2013                   321065         18139\n",
       "2014                   386941         21884\n",
       "2015                   393002         21010\n",
       "2016                   464845         25816\n",
       "2017                   464389         25150\n",
       "2018                   510547         27661\n",
       "2019                   574973         30516\n",
       "2020                    17607           178\n",
       "2022                       65             7"
      ]
     },
     "execution_count": 37,
     "metadata": {},
     "output_type": "execute_result"
    }
   ],
   "source": [
    "years = df.groupby('opp_start_year').sum()\n",
    "years"
   ]
  },
  {
   "cell_type": "markdown",
   "id": "93a9f53c",
   "metadata": {},
   "source": [
    "MRR value increases yearly from 2013 to 2019"
   ]
  },
  {
   "cell_type": "code",
   "execution_count": 38,
   "id": "98a52e20",
   "metadata": {},
   "outputs": [],
   "source": [
    "years.to_csv('Q4_year_mrr.csv')"
   ]
  },
  {
   "cell_type": "markdown",
   "id": "4fb204e9",
   "metadata": {},
   "source": [
    "#### Checking yearly total active accounts "
   ]
  },
  {
   "cell_type": "code",
   "execution_count": 39,
   "id": "48a288df",
   "metadata": {},
   "outputs": [
    {
     "data": {
      "text/html": [
       "<div>\n",
       "<style scoped>\n",
       "    .dataframe tbody tr th:only-of-type {\n",
       "        vertical-align: middle;\n",
       "    }\n",
       "\n",
       "    .dataframe tbody tr th {\n",
       "        vertical-align: top;\n",
       "    }\n",
       "\n",
       "    .dataframe thead th {\n",
       "        text-align: right;\n",
       "    }\n",
       "</style>\n",
       "<table border=\"1\" class=\"dataframe\">\n",
       "  <thead>\n",
       "    <tr style=\"text-align: right;\">\n",
       "      <th></th>\n",
       "      <th>opp_start_year</th>\n",
       "      <th>Unique Account Field</th>\n",
       "    </tr>\n",
       "  </thead>\n",
       "  <tbody>\n",
       "    <tr>\n",
       "      <th>6</th>\n",
       "      <td>2019</td>\n",
       "      <td>4605</td>\n",
       "    </tr>\n",
       "    <tr>\n",
       "      <th>5</th>\n",
       "      <td>2018</td>\n",
       "      <td>4101</td>\n",
       "    </tr>\n",
       "    <tr>\n",
       "      <th>3</th>\n",
       "      <td>2016</td>\n",
       "      <td>3734</td>\n",
       "    </tr>\n",
       "    <tr>\n",
       "      <th>4</th>\n",
       "      <td>2017</td>\n",
       "      <td>3722</td>\n",
       "    </tr>\n",
       "    <tr>\n",
       "      <th>2</th>\n",
       "      <td>2015</td>\n",
       "      <td>3141</td>\n",
       "    </tr>\n",
       "    <tr>\n",
       "      <th>1</th>\n",
       "      <td>2014</td>\n",
       "      <td>3100</td>\n",
       "    </tr>\n",
       "    <tr>\n",
       "      <th>0</th>\n",
       "      <td>2013</td>\n",
       "      <td>2576</td>\n",
       "    </tr>\n",
       "    <tr>\n",
       "      <th>7</th>\n",
       "      <td>2020</td>\n",
       "      <td>149</td>\n",
       "    </tr>\n",
       "    <tr>\n",
       "      <th>8</th>\n",
       "      <td>2022</td>\n",
       "      <td>1</td>\n",
       "    </tr>\n",
       "  </tbody>\n",
       "</table>\n",
       "</div>"
      ],
      "text/plain": [
       "   opp_start_year  Unique Account Field\n",
       "6            2019                  4605\n",
       "5            2018                  4101\n",
       "3            2016                  3734\n",
       "4            2017                  3722\n",
       "2            2015                  3141\n",
       "1            2014                  3100\n",
       "0            2013                  2576\n",
       "7            2020                   149\n",
       "8            2022                     1"
      ]
     },
     "execution_count": 39,
     "metadata": {},
     "output_type": "execute_result"
    }
   ],
   "source": [
    "year_accounts = (df.groupby(['opp_start_year'])['Unique Account Field'].count().reset_index())\n",
    "year_accounts.sort_values(by='Unique Account Field', ascending=False)"
   ]
  },
  {
   "cell_type": "code",
   "execution_count": 40,
   "id": "d9ab4d8f",
   "metadata": {},
   "outputs": [],
   "source": [
    "year_accounts.to_csv('Q4_year_acc.csv')"
   ]
  },
  {
   "cell_type": "code",
   "execution_count": 41,
   "id": "4bd6c78b",
   "metadata": {
    "scrolled": true
   },
   "outputs": [
    {
     "data": {
      "image/png": "[encoded data removed]",
      "text/plain": [
       "<Figure size 864x576 with 1 Axes>"
      ]
     },
     "metadata": {
      "needs_background": "light"
     },
     "output_type": "display_data"
    }
   ],
   "source": [
    "sns.barplot(x = 'opp_start_year', y = 'Unique Account Field', data = year_accounts)\n",
    "plt.show()"
   ]
  },
  {
   "cell_type": "markdown",
   "id": "18c71d7a",
   "metadata": {},
   "source": [
    "#### Checking yearly based monthly total active accounts"
   ]
  },
  {
   "cell_type": "code",
   "execution_count": 42,
   "id": "a3f13f1d",
   "metadata": {},
   "outputs": [
    {
     "data": {
      "text/html": [
       "<div>\n",
       "<style scoped>\n",
       "    .dataframe tbody tr th:only-of-type {\n",
       "        vertical-align: middle;\n",
       "    }\n",
       "\n",
       "    .dataframe tbody tr th {\n",
       "        vertical-align: top;\n",
       "    }\n",
       "\n",
       "    .dataframe thead th {\n",
       "        text-align: right;\n",
       "    }\n",
       "</style>\n",
       "<table border=\"1\" class=\"dataframe\">\n",
       "  <thead>\n",
       "    <tr style=\"text-align: right;\">\n",
       "      <th></th>\n",
       "      <th>opp_start_year</th>\n",
       "      <th>opp_start_mt</th>\n",
       "      <th>Unique Account Field</th>\n",
       "    </tr>\n",
       "  </thead>\n",
       "  <tbody>\n",
       "    <tr>\n",
       "      <th>0</th>\n",
       "      <td>2013</td>\n",
       "      <td>1</td>\n",
       "      <td>174</td>\n",
       "    </tr>\n",
       "    <tr>\n",
       "      <th>1</th>\n",
       "      <td>2013</td>\n",
       "      <td>2</td>\n",
       "      <td>164</td>\n",
       "    </tr>\n",
       "    <tr>\n",
       "      <th>2</th>\n",
       "      <td>2013</td>\n",
       "      <td>3</td>\n",
       "      <td>174</td>\n",
       "    </tr>\n",
       "    <tr>\n",
       "      <th>3</th>\n",
       "      <td>2013</td>\n",
       "      <td>4</td>\n",
       "      <td>203</td>\n",
       "    </tr>\n",
       "    <tr>\n",
       "      <th>4</th>\n",
       "      <td>2013</td>\n",
       "      <td>5</td>\n",
       "      <td>211</td>\n",
       "    </tr>\n",
       "    <tr>\n",
       "      <th>...</th>\n",
       "      <td>...</td>\n",
       "      <td>...</td>\n",
       "      <td>...</td>\n",
       "    </tr>\n",
       "    <tr>\n",
       "      <th>85</th>\n",
       "      <td>2020</td>\n",
       "      <td>2</td>\n",
       "      <td>8</td>\n",
       "    </tr>\n",
       "    <tr>\n",
       "      <th>86</th>\n",
       "      <td>2020</td>\n",
       "      <td>3</td>\n",
       "      <td>3</td>\n",
       "    </tr>\n",
       "    <tr>\n",
       "      <th>87</th>\n",
       "      <td>2020</td>\n",
       "      <td>7</td>\n",
       "      <td>1</td>\n",
       "    </tr>\n",
       "    <tr>\n",
       "      <th>88</th>\n",
       "      <td>2020</td>\n",
       "      <td>10</td>\n",
       "      <td>1</td>\n",
       "    </tr>\n",
       "    <tr>\n",
       "      <th>89</th>\n",
       "      <td>2022</td>\n",
       "      <td>7</td>\n",
       "      <td>1</td>\n",
       "    </tr>\n",
       "  </tbody>\n",
       "</table>\n",
       "<p>90 rows × 3 columns</p>\n",
       "</div>"
      ],
      "text/plain": [
       "    opp_start_year  opp_start_mt  Unique Account Field\n",
       "0             2013             1                   174\n",
       "1             2013             2                   164\n",
       "2             2013             3                   174\n",
       "3             2013             4                   203\n",
       "4             2013             5                   211\n",
       "..             ...           ...                   ...\n",
       "85            2020             2                     8\n",
       "86            2020             3                     3\n",
       "87            2020             7                     1\n",
       "88            2020            10                     1\n",
       "89            2022             7                     1\n",
       "\n",
       "[90 rows x 3 columns]"
      ]
     },
     "execution_count": 42,
     "metadata": {},
     "output_type": "execute_result"
    }
   ],
   "source": [
    "year_mt_accounts = (df.groupby(['opp_start_year','opp_start_mt'])['Unique Account Field'].count().reset_index())\n",
    "year_mt_accounts"
   ]
  },
  {
   "cell_type": "code",
   "execution_count": 43,
   "id": "b3666cce",
   "metadata": {},
   "outputs": [],
   "source": [
    "year_mt_accounts.to_csv('Q4_year_mt_acc.csv')"
   ]
  },
  {
   "cell_type": "code",
   "execution_count": 44,
   "id": "a8a1d078",
   "metadata": {},
   "outputs": [
    {
     "data": {
      "image/png": "[encoded data removed]",
      "text/plain": [
       "<Figure size 864x576 with 1 Axes>"
      ]
     },
     "metadata": {
      "needs_background": "light"
     },
     "output_type": "display_data"
    }
   ],
   "source": [
    "sns.barplot(x = 'opp_start_year', y = 'Unique Account Field', hue = 'opp_start_mt', data = year_mt_accounts, palette = \"husl\")\n",
    "plt.legend(loc='upper right')\n",
    "plt.show()"
   ]
  },
  {
   "cell_type": "code",
   "execution_count": null,
   "id": "a89d8c43",
   "metadata": {},
   "outputs": [],
   "source": []
  },
  {
   "cell_type": "markdown",
   "id": "82726cdd",
   "metadata": {},
   "source": [
    "#### as 2019 is the best year, some analysis regarding 2019"
   ]
  },
  {
   "cell_type": "code",
   "execution_count": 45,
   "id": "4c9e35dd",
   "metadata": {},
   "outputs": [
    {
     "data": {
      "text/html": [
       "<div>\n",
       "<style scoped>\n",
       "    .dataframe tbody tr th:only-of-type {\n",
       "        vertical-align: middle;\n",
       "    }\n",
       "\n",
       "    .dataframe tbody tr th {\n",
       "        vertical-align: top;\n",
       "    }\n",
       "\n",
       "    .dataframe thead th {\n",
       "        text-align: right;\n",
       "    }\n",
       "</style>\n",
       "<table border=\"1\" class=\"dataframe\">\n",
       "  <thead>\n",
       "    <tr style=\"text-align: right;\">\n",
       "      <th></th>\n",
       "      <th>Opp Start Date</th>\n",
       "      <th>OPP contract end date</th>\n",
       "      <th>Unique Account Field</th>\n",
       "      <th>MRR(expected)</th>\n",
       "      <th>opp_start_year</th>\n",
       "      <th>opp_start_mt</th>\n",
       "    </tr>\n",
       "  </thead>\n",
       "  <tbody>\n",
       "    <tr>\n",
       "      <th>20374</th>\n",
       "      <td>2019-01-03</td>\n",
       "      <td>2020-01-03</td>\n",
       "      <td>536a1d61d79b3dddc09e-97e5-06c0-6a0f-</td>\n",
       "      <td>126</td>\n",
       "      <td>2019</td>\n",
       "      <td>1</td>\n",
       "    </tr>\n",
       "    <tr>\n",
       "      <th>20375</th>\n",
       "      <td>2019-01-03</td>\n",
       "      <td>2021-01-03</td>\n",
       "      <td>56df122b282d8de797a0-e13b-4714-4abf-</td>\n",
       "      <td>113</td>\n",
       "      <td>2019</td>\n",
       "      <td>1</td>\n",
       "    </tr>\n",
       "    <tr>\n",
       "      <th>20376</th>\n",
       "      <td>2019-01-03</td>\n",
       "      <td>2020-01-03</td>\n",
       "      <td>0255846cabe4b989449e-fee6-11e8-b6c0-</td>\n",
       "      <td>129</td>\n",
       "      <td>2019</td>\n",
       "      <td>1</td>\n",
       "    </tr>\n",
       "    <tr>\n",
       "      <th>20377</th>\n",
       "      <td>2019-01-04</td>\n",
       "      <td>2020-01-04</td>\n",
       "      <td>0255846cabe43331607a-ffc2-11e8-844d-</td>\n",
       "      <td>172</td>\n",
       "      <td>2019</td>\n",
       "      <td>1</td>\n",
       "    </tr>\n",
       "    <tr>\n",
       "      <th>20378</th>\n",
       "      <td>2019-01-04</td>\n",
       "      <td>2020-01-04</td>\n",
       "      <td>0255846cabe435a93d02-1041-11e9-a83e-</td>\n",
       "      <td>77</td>\n",
       "      <td>2019</td>\n",
       "      <td>1</td>\n",
       "    </tr>\n",
       "    <tr>\n",
       "      <th>...</th>\n",
       "      <td>...</td>\n",
       "      <td>...</td>\n",
       "      <td>...</td>\n",
       "      <td>...</td>\n",
       "      <td>...</td>\n",
       "      <td>...</td>\n",
       "    </tr>\n",
       "    <tr>\n",
       "      <th>24974</th>\n",
       "      <td>2019-12-31</td>\n",
       "      <td>2022-12-31</td>\n",
       "      <td>0255846cabe4e9d507d0-cd0d-11e6-a9c6-</td>\n",
       "      <td>148</td>\n",
       "      <td>2019</td>\n",
       "      <td>12</td>\n",
       "    </tr>\n",
       "    <tr>\n",
       "      <th>24975</th>\n",
       "      <td>2019-12-31</td>\n",
       "      <td>2020-12-31</td>\n",
       "      <td>5077d6ee185ff2ad8a43-de86-d0f3-263c-</td>\n",
       "      <td>170</td>\n",
       "      <td>2019</td>\n",
       "      <td>12</td>\n",
       "    </tr>\n",
       "    <tr>\n",
       "      <th>24976</th>\n",
       "      <td>2019-12-31</td>\n",
       "      <td>2020-12-31</td>\n",
       "      <td>06e1c2eca2e6f6d23966-226a-11ea-b2cc-</td>\n",
       "      <td>161</td>\n",
       "      <td>2019</td>\n",
       "      <td>12</td>\n",
       "    </tr>\n",
       "    <tr>\n",
       "      <th>24977</th>\n",
       "      <td>2019-12-31</td>\n",
       "      <td>2020-12-31</td>\n",
       "      <td>0a54afbf2142fcdaccf4-e545-11e9-94b8-</td>\n",
       "      <td>166</td>\n",
       "      <td>2019</td>\n",
       "      <td>12</td>\n",
       "    </tr>\n",
       "    <tr>\n",
       "      <th>24978</th>\n",
       "      <td>2019-12-31</td>\n",
       "      <td>2020-12-31</td>\n",
       "      <td>0255846cabe4ff1919b2-f7b6-11e8-bf9c-</td>\n",
       "      <td>139</td>\n",
       "      <td>2019</td>\n",
       "      <td>12</td>\n",
       "    </tr>\n",
       "  </tbody>\n",
       "</table>\n",
       "<p>4605 rows × 6 columns</p>\n",
       "</div>"
      ],
      "text/plain": [
       "      Opp Start Date OPP contract end date  \\\n",
       "20374     2019-01-03            2020-01-03   \n",
       "20375     2019-01-03            2021-01-03   \n",
       "20376     2019-01-03            2020-01-03   \n",
       "20377     2019-01-04            2020-01-04   \n",
       "20378     2019-01-04            2020-01-04   \n",
       "...              ...                   ...   \n",
       "24974     2019-12-31            2022-12-31   \n",
       "24975     2019-12-31            2020-12-31   \n",
       "24976     2019-12-31            2020-12-31   \n",
       "24977     2019-12-31            2020-12-31   \n",
       "24978     2019-12-31            2020-12-31   \n",
       "\n",
       "                       Unique Account Field  MRR(expected)  opp_start_year  \\\n",
       "20374  536a1d61d79b3dddc09e-97e5-06c0-6a0f-            126            2019   \n",
       "20375  56df122b282d8de797a0-e13b-4714-4abf-            113            2019   \n",
       "20376  0255846cabe4b989449e-fee6-11e8-b6c0-            129            2019   \n",
       "20377  0255846cabe43331607a-ffc2-11e8-844d-            172            2019   \n",
       "20378  0255846cabe435a93d02-1041-11e9-a83e-             77            2019   \n",
       "...                                     ...            ...             ...   \n",
       "24974  0255846cabe4e9d507d0-cd0d-11e6-a9c6-            148            2019   \n",
       "24975  5077d6ee185ff2ad8a43-de86-d0f3-263c-            170            2019   \n",
       "24976  06e1c2eca2e6f6d23966-226a-11ea-b2cc-            161            2019   \n",
       "24977  0a54afbf2142fcdaccf4-e545-11e9-94b8-            166            2019   \n",
       "24978  0255846cabe4ff1919b2-f7b6-11e8-bf9c-            139            2019   \n",
       "\n",
       "       opp_start_mt  \n",
       "20374             1  \n",
       "20375             1  \n",
       "20376             1  \n",
       "20377             1  \n",
       "20378             1  \n",
       "...             ...  \n",
       "24974            12  \n",
       "24975            12  \n",
       "24976            12  \n",
       "24977            12  \n",
       "24978            12  \n",
       "\n",
       "[4605 rows x 6 columns]"
      ]
     },
     "execution_count": 45,
     "metadata": {},
     "output_type": "execute_result"
    }
   ],
   "source": [
    "new_df = df.loc[(df['opp_start_year'] == 2019)]\n",
    "new_df"
   ]
  },
  {
   "cell_type": "markdown",
   "id": "9151a13d",
   "metadata": {},
   "source": [
    "#### Checking 2019's monthly total active accounts"
   ]
  },
  {
   "cell_type": "code",
   "execution_count": 46,
   "id": "34514136",
   "metadata": {
    "scrolled": true
   },
   "outputs": [
    {
     "data": {
      "text/html": [
       "<div>\n",
       "<style scoped>\n",
       "    .dataframe tbody tr th:only-of-type {\n",
       "        vertical-align: middle;\n",
       "    }\n",
       "\n",
       "    .dataframe tbody tr th {\n",
       "        vertical-align: top;\n",
       "    }\n",
       "\n",
       "    .dataframe thead th {\n",
       "        text-align: right;\n",
       "    }\n",
       "</style>\n",
       "<table border=\"1\" class=\"dataframe\">\n",
       "  <thead>\n",
       "    <tr style=\"text-align: right;\">\n",
       "      <th></th>\n",
       "      <th>opp_start_year</th>\n",
       "      <th>opp_start_mt</th>\n",
       "      <th>Unique Account Field</th>\n",
       "    </tr>\n",
       "  </thead>\n",
       "  <tbody>\n",
       "    <tr>\n",
       "      <th>9</th>\n",
       "      <td>2019</td>\n",
       "      <td>10</td>\n",
       "      <td>445</td>\n",
       "    </tr>\n",
       "    <tr>\n",
       "      <th>11</th>\n",
       "      <td>2019</td>\n",
       "      <td>12</td>\n",
       "      <td>410</td>\n",
       "    </tr>\n",
       "    <tr>\n",
       "      <th>2</th>\n",
       "      <td>2019</td>\n",
       "      <td>3</td>\n",
       "      <td>402</td>\n",
       "    </tr>\n",
       "    <tr>\n",
       "      <th>4</th>\n",
       "      <td>2019</td>\n",
       "      <td>5</td>\n",
       "      <td>394</td>\n",
       "    </tr>\n",
       "    <tr>\n",
       "      <th>3</th>\n",
       "      <td>2019</td>\n",
       "      <td>4</td>\n",
       "      <td>382</td>\n",
       "    </tr>\n",
       "    <tr>\n",
       "      <th>10</th>\n",
       "      <td>2019</td>\n",
       "      <td>11</td>\n",
       "      <td>382</td>\n",
       "    </tr>\n",
       "    <tr>\n",
       "      <th>8</th>\n",
       "      <td>2019</td>\n",
       "      <td>9</td>\n",
       "      <td>379</td>\n",
       "    </tr>\n",
       "    <tr>\n",
       "      <th>1</th>\n",
       "      <td>2019</td>\n",
       "      <td>2</td>\n",
       "      <td>374</td>\n",
       "    </tr>\n",
       "    <tr>\n",
       "      <th>6</th>\n",
       "      <td>2019</td>\n",
       "      <td>7</td>\n",
       "      <td>374</td>\n",
       "    </tr>\n",
       "    <tr>\n",
       "      <th>7</th>\n",
       "      <td>2019</td>\n",
       "      <td>8</td>\n",
       "      <td>370</td>\n",
       "    </tr>\n",
       "    <tr>\n",
       "      <th>5</th>\n",
       "      <td>2019</td>\n",
       "      <td>6</td>\n",
       "      <td>362</td>\n",
       "    </tr>\n",
       "    <tr>\n",
       "      <th>0</th>\n",
       "      <td>2019</td>\n",
       "      <td>1</td>\n",
       "      <td>331</td>\n",
       "    </tr>\n",
       "  </tbody>\n",
       "</table>\n",
       "</div>"
      ],
      "text/plain": [
       "    opp_start_year  opp_start_mt  Unique Account Field\n",
       "9             2019            10                   445\n",
       "11            2019            12                   410\n",
       "2             2019             3                   402\n",
       "4             2019             5                   394\n",
       "3             2019             4                   382\n",
       "10            2019            11                   382\n",
       "8             2019             9                   379\n",
       "1             2019             2                   374\n",
       "6             2019             7                   374\n",
       "7             2019             8                   370\n",
       "5             2019             6                   362\n",
       "0             2019             1                   331"
      ]
     },
     "execution_count": 46,
     "metadata": {},
     "output_type": "execute_result"
    }
   ],
   "source": [
    "results = (new_df.groupby(['opp_start_year','opp_start_mt'])['Unique Account Field'].count().reset_index())\n",
    "results= results.sort_values('Unique Account Field', ascending = False)\n",
    "\n",
    "results"
   ]
  },
  {
   "cell_type": "code",
   "execution_count": 47,
   "id": "b3a2b64e",
   "metadata": {},
   "outputs": [],
   "source": [
    "results.to_csv('Q4_2019_mtly_acc.csv')"
   ]
  },
  {
   "cell_type": "code",
   "execution_count": 48,
   "id": "ee1ec204",
   "metadata": {},
   "outputs": [
    {
     "data": {
      "image/png": "[encoded data removed]",
      "text/plain": [
       "<Figure size 864x576 with 1 Axes>"
      ]
     },
     "metadata": {
      "needs_background": "light"
     },
     "output_type": "display_data"
    }
   ],
   "source": [
    "plt.bar(results['opp_start_mt'], results['Unique Account Field'])\n",
    "plt.xticks(results['opp_start_mt'])\n",
    "plt.ylabel('contracts counts')\n",
    "plt.xlabel('Month number')\n",
    "plt.show()"
   ]
  },
  {
   "cell_type": "markdown",
   "id": "870ee3c1",
   "metadata": {},
   "source": [
    "#### Checking 2019's monthly total MRR"
   ]
  },
  {
   "cell_type": "code",
   "execution_count": 49,
   "id": "3ad9e960",
   "metadata": {
    "scrolled": true
   },
   "outputs": [
    {
     "data": {
      "text/html": [
       "<div>\n",
       "<style scoped>\n",
       "    .dataframe tbody tr th:only-of-type {\n",
       "        vertical-align: middle;\n",
       "    }\n",
       "\n",
       "    .dataframe tbody tr th {\n",
       "        vertical-align: top;\n",
       "    }\n",
       "\n",
       "    .dataframe thead th {\n",
       "        text-align: right;\n",
       "    }\n",
       "</style>\n",
       "<table border=\"1\" class=\"dataframe\">\n",
       "  <thead>\n",
       "    <tr style=\"text-align: right;\">\n",
       "      <th></th>\n",
       "      <th>opp_start_year</th>\n",
       "      <th>opp_start_mt</th>\n",
       "      <th>MRR(expected)</th>\n",
       "    </tr>\n",
       "  </thead>\n",
       "  <tbody>\n",
       "    <tr>\n",
       "      <th>9</th>\n",
       "      <td>2019</td>\n",
       "      <td>10</td>\n",
       "      <td>57774</td>\n",
       "    </tr>\n",
       "    <tr>\n",
       "      <th>11</th>\n",
       "      <td>2019</td>\n",
       "      <td>12</td>\n",
       "      <td>52134</td>\n",
       "    </tr>\n",
       "    <tr>\n",
       "      <th>4</th>\n",
       "      <td>2019</td>\n",
       "      <td>5</td>\n",
       "      <td>50033</td>\n",
       "    </tr>\n",
       "    <tr>\n",
       "      <th>2</th>\n",
       "      <td>2019</td>\n",
       "      <td>3</td>\n",
       "      <td>49760</td>\n",
       "    </tr>\n",
       "    <tr>\n",
       "      <th>8</th>\n",
       "      <td>2019</td>\n",
       "      <td>9</td>\n",
       "      <td>48790</td>\n",
       "    </tr>\n",
       "    <tr>\n",
       "      <th>10</th>\n",
       "      <td>2019</td>\n",
       "      <td>11</td>\n",
       "      <td>48481</td>\n",
       "    </tr>\n",
       "    <tr>\n",
       "      <th>3</th>\n",
       "      <td>2019</td>\n",
       "      <td>4</td>\n",
       "      <td>47255</td>\n",
       "    </tr>\n",
       "    <tr>\n",
       "      <th>7</th>\n",
       "      <td>2019</td>\n",
       "      <td>8</td>\n",
       "      <td>46701</td>\n",
       "    </tr>\n",
       "    <tr>\n",
       "      <th>1</th>\n",
       "      <td>2019</td>\n",
       "      <td>2</td>\n",
       "      <td>45051</td>\n",
       "    </tr>\n",
       "    <tr>\n",
       "      <th>6</th>\n",
       "      <td>2019</td>\n",
       "      <td>7</td>\n",
       "      <td>44957</td>\n",
       "    </tr>\n",
       "    <tr>\n",
       "      <th>5</th>\n",
       "      <td>2019</td>\n",
       "      <td>6</td>\n",
       "      <td>43600</td>\n",
       "    </tr>\n",
       "    <tr>\n",
       "      <th>0</th>\n",
       "      <td>2019</td>\n",
       "      <td>1</td>\n",
       "      <td>40437</td>\n",
       "    </tr>\n",
       "  </tbody>\n",
       "</table>\n",
       "</div>"
      ],
      "text/plain": [
       "    opp_start_year  opp_start_mt  MRR(expected)\n",
       "9             2019            10          57774\n",
       "11            2019            12          52134\n",
       "4             2019             5          50033\n",
       "2             2019             3          49760\n",
       "8             2019             9          48790\n",
       "10            2019            11          48481\n",
       "3             2019             4          47255\n",
       "7             2019             8          46701\n",
       "1             2019             2          45051\n",
       "6             2019             7          44957\n",
       "5             2019             6          43600\n",
       "0             2019             1          40437"
      ]
     },
     "execution_count": 49,
     "metadata": {},
     "output_type": "execute_result"
    }
   ],
   "source": [
    "results = (new_df.groupby(['opp_start_year','opp_start_mt'])['MRR(expected)'].sum().reset_index())\n",
    "results= results.sort_values('MRR(expected)', ascending = False)\n",
    "\n",
    "results"
   ]
  },
  {
   "cell_type": "code",
   "execution_count": 50,
   "id": "442fc333",
   "metadata": {},
   "outputs": [],
   "source": [
    "results.to_csv('Q4_2019_mtly_mrr.csv')"
   ]
  },
  {
   "cell_type": "code",
   "execution_count": 51,
   "id": "d0984a3f",
   "metadata": {},
   "outputs": [
    {
     "data": {
      "image/png": "[encoded data removed]",
      "text/plain": [
       "<Figure size 864x576 with 1 Axes>"
      ]
     },
     "metadata": {
      "needs_background": "light"
     },
     "output_type": "display_data"
    }
   ],
   "source": [
    "plt.bar(results['opp_start_mt'], results['MRR(expected)'], color ='red', width = 0.4)\n",
    "plt.xticks(results['opp_start_mt'])\n",
    "plt.ylabel('MRR(expected) sum')\n",
    "plt.xlabel('Month number')\n",
    "plt.show()"
   ]
  },
  {
   "cell_type": "code",
   "execution_count": null,
   "id": "75a653c7",
   "metadata": {},
   "outputs": [],
   "source": []
  }
 ],
 "metadata": {
  "kernelspec": {
   "display_name": "Python 3 (ipykernel)",
   "language": "python",
   "name": "python3"
  },
  "language_info": {
   "codemirror_mode": {
    "name": "ipython",
    "version": 3
   },
   "file_extension": ".py",
   "mimetype": "text/x-python",
   "name": "python",
   "nbconvert_exporter": "python",
   "pygments_lexer": "ipython3",
   "version": "3.9.7"
  }
 },
 "nbformat": 4,
 "nbformat_minor": 5
}
